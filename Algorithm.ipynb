{
 "cells": [
  {
   "cell_type": "code",
   "execution_count": null,
   "metadata": {},
   "outputs": [],
   "source": [
    "# Libraries used in the algorithm\n",
    "import math\n",
    "import numpy as np"
   ]
  },
  {
   "cell_type": "code",
   "execution_count": null,
   "metadata": {},
   "outputs": [],
   "source": [
    "x_train = np.array([77, 115, 102, 102, 114, 86, 117, 116, 113, 103]) # These are our IQ results. These are examples created for the purpose of the code.\n",
    "y_train = np.array([60, 85, 76, 76, 84, 66, 86, 86, 84, 77]) # These are examples of the scores for each individual's IQ."
   ]
  },
  {
   "cell_type": "code",
   "execution_count": null,
   "metadata": {},
   "outputs": [],
   "source": [
    "def costFunction(x, y, w, b): # This is the cost function, responsible for making the predictions.\n",
    "    m = x.shape[0]\n",
    "    cost = 0\n",
    "\n",
    "    for i in range(m):\n",
    "        F_wb = w*x[i]+b\n",
    "        cost = cost + (F_wb - y[i])**2\n",
    "    totalCost = 1/(2*m)*cost\n",
    "\n",
    "    return totalCost"
   ]
  },
  {
   "cell_type": "code",
   "execution_count": null,
   "metadata": {},
   "outputs": [],
   "source": [
    "def gradientFunction(x, y, w , b): # This is the gradient function, responsible for enhancing the algorithm's precision.\n",
    "    m = x.shape[0]\n",
    "    dj_dw = 0\n",
    "    dj_db = 0\n",
    "\n",
    "    for i in range(m):\n",
    "        Fwb = w*x[i]+b\n",
    "        dj_dw_i = (Fwb - y[i]) * x[i]\n",
    "        dj_db_i = Fwb - y[i]\n",
    "        dj_dw += dj_dw_i\n",
    "        dj_db += dj_db_i\n",
    "    dj_dw = dj_dw / m\n",
    "    dj_db = dj_db / m\n",
    "\n",
    "    return dj_dw, dj_db"
   ]
  },
  {
   "cell_type": "code",
   "execution_count": null,
   "metadata": {},
   "outputs": [],
   "source": [
    "def gradientDescent(x, y, w_in, b_in, alpha, numIters, costFunction, gradientFunction): # Here we apply the function above.\n",
    "    J_history = []\n",
    "    p_history = []\n",
    "    b = b_in\n",
    "    w = w_in\n",
    "\n",
    "    for i in range(numIters):\n",
    "        dj_dw, dj_db = gradientFunction(x, y, w, b)\n",
    "        b = b - alpha * dj_db\n",
    "        w = w - alpha * dj_dw\n",
    "\n",
    "        if i < 100000:\n",
    "            J_history.append(costFunction(x, y, w, b))\n",
    "            p_history.append([w,b])\n",
    "\n",
    "        if i% math.ceil(numIters/10) == 0:\n",
    "            print(f\"Iteration {i:4}: Cost {J_history[-1]:0.2e}\",\n",
    "                  f\"dj_dw: {dj_dw: 0.3e}, dj_db: {dj_db: 0.3e}  \",\n",
    "                  f\"w: {w: 0.3e}, b:{b: 0.5}\")\n",
    "    return w, b, J_history, p_history"
   ]
  },
  {
   "cell_type": "code",
   "execution_count": null,
   "metadata": {},
   "outputs": [],
   "source": [
    "# Run this cell to execute the project. Feel free to change the parameters to see different results.\n",
    "w_init = 0\n",
    "b_init = 0\n",
    "iterations = 10000\n",
    "tmp_alpha = 1.0e-4\n",
    "w_final, b_final, J_hist, p_hist = gradientDescent(x_train, y_train, w_init, b_init, tmp_alpha, iterations, costFunction, gradientFunction)\n",
    "print(f\"(w,b) found by gradient descent: ({w_final:8.4f}, {b_final:8.4f})\")"
   ]
  },
  {
   "cell_type": "code",
   "execution_count": null,
   "metadata": {},
   "outputs": [],
   "source": [
    "print(f\"For a IQ of 77 prediction {w_final*77 + b_final:0.1f} test score\")\n",
    "print(f\"For a IQ of 115 predictionn {w_final*115 + b_final:0.1f} test score\")\n",
    "print(f\"For a IQ of 102 prediction {w_final*102 + b_final:0.1f} test score\")"
   ]
  }
 ],
 "metadata": {
  "kernelspec": {
   "display_name": "Python 3",
   "language": "python",
   "name": "python3"
  },
  "language_info": {
   "codemirror_mode": {
    "name": "ipython",
    "version": 3
   },
   "file_extension": ".py",
   "mimetype": "text/x-python",
   "name": "python",
   "nbconvert_exporter": "python",
   "pygments_lexer": "ipython3",
   "version": "3.12.1"
  }
 },
 "nbformat": 4,
 "nbformat_minor": 2
}
